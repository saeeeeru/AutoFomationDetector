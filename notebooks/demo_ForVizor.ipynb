{
 "cells": [
  {
   "cell_type": "markdown",
   "metadata": {},
   "source": [
    "## ForVizorの実装"
   ]
  },
  {
   "cell_type": "markdown",
   "metadata": {},
   "source": [
    "[The DEBS 2013 Grand Challeng](https://www2.informatik.uni-erlangen.de/publication/download/DEBS2013b.pdf)で提案されているデータセットを使用。  \n",
    "[ForVizor](https://www.semanticscholar.org/paper/ForVizor%3A-Visualizing-Spatio-Temporal-Team-in-Wu-Xie/d72e58f168fd3df4ff40c045db2b57d60a638912)と[Large-Scale Analysis of Soccer Matches using Spatiotemporal Tracking Data](http://www.yisongyue.com/publications/icdm2014_soccer_formation.pdf)を参考にしながら解析を進める。  \n",
    "このデータの解析の目的は以下の2つである。  \n",
    "1. フォーメーションの時間的変化を解析、可視化する\n",
    "2. 守備時のフォーメーションを平均的な矢印の向きとともに可視化する"
   ]
  },
  {
   "cell_type": "markdown",
   "metadata": {},
   "source": [
    "#### 必要なライブラリのインポート"
   ]
  },
  {
   "cell_type": "code",
   "execution_count": 16,
   "metadata": {},
   "outputs": [],
   "source": [
    "import os, random, time\n",
    "\n",
    "import numpy as np\n",
    "import pandas as pd\n",
    "import matplotlib.pyplot as plt\n",
    "\n",
    "import japanize_matplotlib\n",
    "\n",
    "from scipy.stats import multivariate_normal, gaussian_kde, zscore, entropy\n",
    "from munkres import Munkres"
   ]
  },
  {
   "cell_type": "markdown",
   "metadata": {},
   "source": [
    "#### データの読み込み"
   ]
  },
  {
   "cell_type": "code",
   "execution_count": 17,
   "metadata": {},
   "outputs": [
    {
     "data": {
      "text/html": [
       "<div>\n",
       "<style scoped>\n",
       "    .dataframe tbody tr th:only-of-type {\n",
       "        vertical-align: middle;\n",
       "    }\n",
       "\n",
       "    .dataframe tbody tr th {\n",
       "        vertical-align: top;\n",
       "    }\n",
       "\n",
       "    .dataframe thead th {\n",
       "        text-align: right;\n",
       "    }\n",
       "</style>\n",
       "<table border=\"1\" class=\"dataframe\">\n",
       "  <thead>\n",
       "    <tr style=\"text-align: right;\">\n",
       "      <th></th>\n",
       "      <th>ts</th>\n",
       "      <th>x</th>\n",
       "      <th>y</th>\n",
       "      <th>z</th>\n",
       "      <th>|v|</th>\n",
       "      <th>|a|</th>\n",
       "      <th>vx</th>\n",
       "      <th>vy</th>\n",
       "      <th>vz</th>\n",
       "      <th>ax</th>\n",
       "      <th>ay</th>\n",
       "      <th>az</th>\n",
       "    </tr>\n",
       "  </thead>\n",
       "  <tbody>\n",
       "    <tr>\n",
       "      <th>count</th>\n",
       "      <td>4.957608e+07</td>\n",
       "      <td>4.957608e+07</td>\n",
       "      <td>4.957608e+07</td>\n",
       "      <td>4.957608e+07</td>\n",
       "      <td>4.957608e+07</td>\n",
       "      <td>4.957608e+07</td>\n",
       "      <td>4.957608e+07</td>\n",
       "      <td>4.957608e+07</td>\n",
       "      <td>4.957608e+07</td>\n",
       "      <td>4.957608e+07</td>\n",
       "      <td>4.957608e+07</td>\n",
       "      <td>4.957608e+07</td>\n",
       "    </tr>\n",
       "    <tr>\n",
       "      <th>mean</th>\n",
       "      <td>1.286534e+16</td>\n",
       "      <td>1.876172e+04</td>\n",
       "      <td>-3.595071e+02</td>\n",
       "      <td>1.243526e+01</td>\n",
       "      <td>1.730069e+06</td>\n",
       "      <td>1.026635e+07</td>\n",
       "      <td>-2.735336e+01</td>\n",
       "      <td>-2.660484e+01</td>\n",
       "      <td>-2.080428e+02</td>\n",
       "      <td>2.175055e+00</td>\n",
       "      <td>-2.280792e+00</td>\n",
       "      <td>-1.326106e+01</td>\n",
       "    </tr>\n",
       "    <tr>\n",
       "      <th>std</th>\n",
       "      <td>1.336397e+15</td>\n",
       "      <td>1.979624e+04</td>\n",
       "      <td>2.201871e+04</td>\n",
       "      <td>5.531649e+02</td>\n",
       "      <td>2.780320e+06</td>\n",
       "      <td>1.999430e+07</td>\n",
       "      <td>5.883493e+03</td>\n",
       "      <td>6.132355e+03</td>\n",
       "      <td>5.266312e+03</td>\n",
       "      <td>6.395994e+03</td>\n",
       "      <td>6.517742e+03</td>\n",
       "      <td>4.075545e+03</td>\n",
       "    </tr>\n",
       "    <tr>\n",
       "      <th>min</th>\n",
       "      <td>1.062934e+16</td>\n",
       "      <td>-2.301000e+04</td>\n",
       "      <td>-6.254500e+04</td>\n",
       "      <td>-1.367500e+04</td>\n",
       "      <td>0.000000e+00</td>\n",
       "      <td>0.000000e+00</td>\n",
       "      <td>-3.276800e+04</td>\n",
       "      <td>-3.276800e+04</td>\n",
       "      <td>-3.276800e+04</td>\n",
       "      <td>-3.276800e+04</td>\n",
       "      <td>-3.276800e+04</td>\n",
       "      <td>-3.276800e+04</td>\n",
       "    </tr>\n",
       "    <tr>\n",
       "      <th>25%</th>\n",
       "      <td>1.159440e+16</td>\n",
       "      <td>-5.092000e+03</td>\n",
       "      <td>-1.568800e+04</td>\n",
       "      <td>-2.790000e+02</td>\n",
       "      <td>1.556530e+05</td>\n",
       "      <td>3.303185e+06</td>\n",
       "      <td>-4.954000e+03</td>\n",
       "      <td>-5.405000e+03</td>\n",
       "      <td>-3.703000e+03</td>\n",
       "      <td>-5.958000e+03</td>\n",
       "      <td>-6.197000e+03</td>\n",
       "      <td>-2.385000e+03</td>\n",
       "    </tr>\n",
       "    <tr>\n",
       "      <th>50%</th>\n",
       "      <td>1.322602e+16</td>\n",
       "      <td>2.215000e+04</td>\n",
       "      <td>-2.690000e+02</td>\n",
       "      <td>-3.500000e+01</td>\n",
       "      <td>4.913500e+05</td>\n",
       "      <td>6.144118e+06</td>\n",
       "      <td>-1.600000e+01</td>\n",
       "      <td>-1.500000e+01</td>\n",
       "      <td>-5.800000e+01</td>\n",
       "      <td>2.000000e+00</td>\n",
       "      <td>3.000000e+00</td>\n",
       "      <td>7.000000e+00</td>\n",
       "    </tr>\n",
       "    <tr>\n",
       "      <th>75%</th>\n",
       "      <td>1.406254e+16</td>\n",
       "      <td>3.120300e+04</td>\n",
       "      <td>1.590200e+04</td>\n",
       "      <td>2.310000e+02</td>\n",
       "      <td>2.299802e+06</td>\n",
       "      <td>1.187624e+07</td>\n",
       "      <td>4.864000e+03</td>\n",
       "      <td>5.325000e+03</td>\n",
       "      <td>2.940000e+03</td>\n",
       "      <td>5.966000e+03</td>\n",
       "      <td>6.188000e+03</td>\n",
       "      <td>2.382000e+03</td>\n",
       "    </tr>\n",
       "    <tr>\n",
       "      <th>max</th>\n",
       "      <td>1.489395e+16</td>\n",
       "      <td>6.451300e+04</td>\n",
       "      <td>5.606600e+04</td>\n",
       "      <td>1.821500e+04</td>\n",
       "      <td>6.549051e+07</td>\n",
       "      <td>1.327792e+09</td>\n",
       "      <td>9.999000e+03</td>\n",
       "      <td>9.999000e+03</td>\n",
       "      <td>9.999000e+03</td>\n",
       "      <td>9.999000e+03</td>\n",
       "      <td>9.999000e+03</td>\n",
       "      <td>9.999000e+03</td>\n",
       "    </tr>\n",
       "  </tbody>\n",
       "</table>\n",
       "</div>"
      ],
      "text/plain": [
       "                 ts             x             y             z           |v|  \\\n",
       "count  4.957608e+07  4.957608e+07  4.957608e+07  4.957608e+07  4.957608e+07   \n",
       "mean   1.286534e+16  1.876172e+04 -3.595071e+02  1.243526e+01  1.730069e+06   \n",
       "std    1.336397e+15  1.979624e+04  2.201871e+04  5.531649e+02  2.780320e+06   \n",
       "min    1.062934e+16 -2.301000e+04 -6.254500e+04 -1.367500e+04  0.000000e+00   \n",
       "25%    1.159440e+16 -5.092000e+03 -1.568800e+04 -2.790000e+02  1.556530e+05   \n",
       "50%    1.322602e+16  2.215000e+04 -2.690000e+02 -3.500000e+01  4.913500e+05   \n",
       "75%    1.406254e+16  3.120300e+04  1.590200e+04  2.310000e+02  2.299802e+06   \n",
       "max    1.489395e+16  6.451300e+04  5.606600e+04  1.821500e+04  6.549051e+07   \n",
       "\n",
       "                |a|            vx            vy            vz            ax  \\\n",
       "count  4.957608e+07  4.957608e+07  4.957608e+07  4.957608e+07  4.957608e+07   \n",
       "mean   1.026635e+07 -2.735336e+01 -2.660484e+01 -2.080428e+02  2.175055e+00   \n",
       "std    1.999430e+07  5.883493e+03  6.132355e+03  5.266312e+03  6.395994e+03   \n",
       "min    0.000000e+00 -3.276800e+04 -3.276800e+04 -3.276800e+04 -3.276800e+04   \n",
       "25%    3.303185e+06 -4.954000e+03 -5.405000e+03 -3.703000e+03 -5.958000e+03   \n",
       "50%    6.144118e+06 -1.600000e+01 -1.500000e+01 -5.800000e+01  2.000000e+00   \n",
       "75%    1.187624e+07  4.864000e+03  5.325000e+03  2.940000e+03  5.966000e+03   \n",
       "max    1.327792e+09  9.999000e+03  9.999000e+03  9.999000e+03  9.999000e+03   \n",
       "\n",
       "                 ay            az  \n",
       "count  4.957608e+07  4.957608e+07  \n",
       "mean  -2.280792e+00 -1.326106e+01  \n",
       "std    6.517742e+03  4.075545e+03  \n",
       "min   -3.276800e+04 -3.276800e+04  \n",
       "25%   -6.197000e+03 -2.385000e+03  \n",
       "50%    3.000000e+00  7.000000e+00  \n",
       "75%    6.188000e+03  2.382000e+03  \n",
       "max    9.999000e+03  9.999000e+03  "
      ]
     },
     "execution_count": 17,
     "metadata": {},
     "output_type": "execute_result"
    }
   ],
   "source": [
    "infile = os.path.join('.', 'full-game')\n",
    "\n",
    "# n = sum(1 for line in open(infile)) - 1\n",
    "n = 49576080\n",
    "\n",
    "p = 0.01\n",
    "n_rows = int(n/2)\n",
    "df = pd.read_csv(infile, \n",
    "                 header=None)\n",
    "#                  header=None, \n",
    "#                  nrows=n_rows)\n",
    "#                  skiprows=lambda i: i>0 and random.random() > p)\n",
    "\n",
    "df.columns = ['sid', 'ts', 'x', 'y', 'z', '|v|', '|a|', 'vx', 'vy', 'vz', 'ax', 'ay', 'az']\n",
    "\n",
    "df.iloc[:,1:].describe()"
   ]
  },
  {
   "cell_type": "markdown",
   "metadata": {},
   "source": [
    "#### データの理解（センサーID）"
   ]
  },
  {
   "cell_type": "code",
   "execution_count": 18,
   "metadata": {},
   "outputs": [
    {
     "name": "stdout",
     "output_type": "stream",
     "text": [
      "センサー数 :42\n",
      "センサーID :[4, 8, 10, 12, 13, 14, 16, 19, 23, 24, 28, 38, 40, 44, 47, 49, 52, 53, 54, 57, 58, 59, 61, 62, 63, 64, 65, 66, 67, 68, 69, 71, 73, 74, 75, 88, 97, 98, 99, 100, 105, 106]\n"
     ]
    }
   ],
   "source": [
    "print('センサー数 :{}'.format(len(df['sid'].unique())))\n",
    "sid_list = np.sort(df['sid'].unique()).tolist()\n",
    "print('センサーID :{}'.format(sid_list))\n",
    "\n",
    "# レフリー、ボール、各プレイヤーのセンサーID\n",
    "left_r = 105\n",
    "right_r = 106\n",
    "\n",
    "ball_list = [4, 8, 10, 12]  # 12は後半のみ\n",
    "left_a_list = [13, 47, 49, 19, 53, 23, 57, 59]\n",
    "right_a_list = [14, 16, 88, 52, 54, 24, 58, 28]\n",
    "\n",
    "left_b_list = [61, 63, 65, 67, 69, 71, 73, 75]\n",
    "right_b_list = [62, 64, 66, 68, 38, 40, 74, 44]"
   ]
  },
  {
   "cell_type": "markdown",
   "metadata": {},
   "source": [
    "#### データの理解（タイムスタンプ）\n",
    "タイムスタンプは17桁で、秒の小数部が12桁ある。"
   ]
  },
  {
   "cell_type": "code",
   "execution_count": 19,
   "metadata": {},
   "outputs": [
    {
     "name": "stdout",
     "output_type": "stream",
     "text": [
      "タイムスタンプ数: 49576080\n",
      "センサー数 :42\n"
     ]
    }
   ],
   "source": [
    "t_array = np.sort(df['ts'].unique())\n",
    "print('タイムスタンプ数: {}'.format(len(t_array)))\n",
    "\n",
    "# 試合開始時からのデータとし、time-stampを変換する\n",
    "df['ts'] = [float(str(t)[:5]+'.'+str(t)[5:]) for t in df.ts.values.tolist()]\n",
    "st_1st = 10753.295594424116\n",
    "ed_1st = 12557.295594424116\n",
    "st_2nd = 13086.639146403495\n",
    "ed_2nd = 14879.639146403495\n",
    "\n",
    "df = df[(st_1st <= df.ts)&(df.ts < ed_2nd)]\n",
    "df.ts -= st_1st\n",
    "\n",
    "print('センサー数 :{}'.format(len(df['sid'].unique())))"
   ]
  },
  {
   "cell_type": "markdown",
   "metadata": {},
   "source": [
    "#### データを吐き出す"
   ]
  },
  {
   "cell_type": "code",
   "execution_count": 41,
   "metadata": {},
   "outputs": [
    {
     "name": "stdout",
     "output_type": "stream",
     "text": [
      "9020.0\n"
     ]
    },
    {
     "data": {
      "application/vnd.jupyter.widget-view+json": {
       "model_id": "b72136d22afe479b8fd65bc5eeaf6e9e",
       "version_major": 2,
       "version_minor": 0
      },
      "text/plain": [
       "FloatProgress(value=0.0, max=9020.0)"
      ]
     },
     "metadata": {},
     "output_type": "display_data"
    },
    {
     "ename": "KeyboardInterrupt",
     "evalue": "",
     "output_type": "error",
     "traceback": [
      "\u001b[0;31m---------------------------------------------------------------------------\u001b[0m",
      "\u001b[0;31mKeyboardInterrupt\u001b[0m                         Traceback (most recent call last)",
      "\u001b[0;32m<ipython-input-41-d8837ed81990>\u001b[0m in \u001b[0;36m<module>\u001b[0;34m\u001b[0m\n\u001b[1;32m     19\u001b[0m     \u001b[0mstart_time\u001b[0m \u001b[0;34m=\u001b[0m \u001b[0mtime\u001b[0m\u001b[0;34m.\u001b[0m\u001b[0mtime\u001b[0m\u001b[0;34m(\u001b[0m\u001b[0;34m)\u001b[0m\u001b[0;34m\u001b[0m\u001b[0m\n\u001b[1;32m     20\u001b[0m     \u001b[0mball_features\u001b[0m \u001b[0;34m=\u001b[0m \u001b[0mdf\u001b[0m\u001b[0;34m[\u001b[0m\u001b[0;34m(\u001b[0m\u001b[0mst\u001b[0m \u001b[0;34m<=\u001b[0m \u001b[0mdf\u001b[0m\u001b[0;34m.\u001b[0m\u001b[0mts\u001b[0m\u001b[0;34m)\u001b[0m\u001b[0;34m&\u001b[0m\u001b[0;34m(\u001b[0m\u001b[0mdf\u001b[0m\u001b[0;34m.\u001b[0m\u001b[0mts\u001b[0m \u001b[0;34m<\u001b[0m \u001b[0med\u001b[0m\u001b[0;34m)\u001b[0m\u001b[0;34m&\u001b[0m\u001b[0;34m(\u001b[0m\u001b[0;34m(\u001b[0m\u001b[0mdf\u001b[0m\u001b[0;34m.\u001b[0m\u001b[0msid\u001b[0m \u001b[0;34m==\u001b[0m \u001b[0mball_list\u001b[0m\u001b[0;34m[\u001b[0m\u001b[0;36m0\u001b[0m\u001b[0;34m]\u001b[0m\u001b[0;34m)\u001b[0m\u001b[0;34m|\u001b[0m\u001b[0;34m(\u001b[0m\u001b[0mdf\u001b[0m\u001b[0;34m.\u001b[0m\u001b[0msid\u001b[0m \u001b[0;34m==\u001b[0m \u001b[0mball_list\u001b[0m\u001b[0;34m[\u001b[0m\u001b[0;36m1\u001b[0m\u001b[0;34m]\u001b[0m\u001b[0;34m)\u001b[0m\u001b[0;34m|\u001b[0m\u001b[0;34m(\u001b[0m\u001b[0mdf\u001b[0m\u001b[0;34m.\u001b[0m\u001b[0msid\u001b[0m \u001b[0;34m==\u001b[0m \u001b[0mball_list\u001b[0m\u001b[0;34m[\u001b[0m\u001b[0;36m2\u001b[0m\u001b[0;34m]\u001b[0m\u001b[0;34m)\u001b[0m\u001b[0;34m|\u001b[0m\u001b[0;34m(\u001b[0m\u001b[0mdf\u001b[0m\u001b[0;34m.\u001b[0m\u001b[0msid\u001b[0m \u001b[0;34m==\u001b[0m \u001b[0mball_list\u001b[0m\u001b[0;34m[\u001b[0m\u001b[0;36m3\u001b[0m\u001b[0;34m]\u001b[0m\u001b[0;34m)\u001b[0m\u001b[0;34m)\u001b[0m\u001b[0;34m]\u001b[0m\u001b[0;34m[\u001b[0m\u001b[0;34m[\u001b[0m\u001b[0;34m'x'\u001b[0m\u001b[0;34m,\u001b[0m \u001b[0;34m'y'\u001b[0m\u001b[0;34m,\u001b[0m\u001b[0;34m'|v|'\u001b[0m\u001b[0;34m]\u001b[0m\u001b[0;34m]\u001b[0m\u001b[0;34m.\u001b[0m\u001b[0mmean\u001b[0m\u001b[0;34m(\u001b[0m\u001b[0;34m)\u001b[0m\u001b[0;34m.\u001b[0m\u001b[0mvalues\u001b[0m\u001b[0;34m\u001b[0m\u001b[0m\n\u001b[0;32m---> 21\u001b[0;31m     \u001b[0md_array\u001b[0m \u001b[0;34m=\u001b[0m \u001b[0mnp\u001b[0m\u001b[0;34m.\u001b[0m\u001b[0marray\u001b[0m\u001b[0;34m(\u001b[0m\u001b[0;34m[\u001b[0m\u001b[0;34m[\u001b[0m\u001b[0mnp\u001b[0m\u001b[0;34m.\u001b[0m\u001b[0mlinalg\u001b[0m\u001b[0;34m.\u001b[0m\u001b[0mnorm\u001b[0m\u001b[0;34m(\u001b[0m\u001b[0mdf\u001b[0m\u001b[0;34m[\u001b[0m\u001b[0;34m(\u001b[0m\u001b[0mst\u001b[0m \u001b[0;34m<=\u001b[0m \u001b[0mdf\u001b[0m\u001b[0;34m.\u001b[0m\u001b[0mts\u001b[0m\u001b[0;34m)\u001b[0m\u001b[0;34m&\u001b[0m\u001b[0;34m(\u001b[0m\u001b[0mdf\u001b[0m\u001b[0;34m.\u001b[0m\u001b[0mts\u001b[0m \u001b[0;34m<\u001b[0m \u001b[0med\u001b[0m\u001b[0;34m)\u001b[0m\u001b[0;34m&\u001b[0m\u001b[0;34m(\u001b[0m\u001b[0;34m(\u001b[0m\u001b[0mdf\u001b[0m\u001b[0;34m.\u001b[0m\u001b[0msid\u001b[0m \u001b[0;34m==\u001b[0m \u001b[0mleft\u001b[0m\u001b[0;34m)\u001b[0m\u001b[0;34m|\u001b[0m\u001b[0;34m(\u001b[0m\u001b[0mdf\u001b[0m\u001b[0;34m.\u001b[0m\u001b[0msid\u001b[0m \u001b[0;34m==\u001b[0m \u001b[0mright\u001b[0m\u001b[0;34m)\u001b[0m\u001b[0;34m)\u001b[0m\u001b[0;34m]\u001b[0m\u001b[0;34m[\u001b[0m\u001b[0;34m[\u001b[0m\u001b[0;34m'x'\u001b[0m\u001b[0;34m,\u001b[0m \u001b[0;34m'y'\u001b[0m\u001b[0;34m]\u001b[0m\u001b[0;34m]\u001b[0m\u001b[0;34m.\u001b[0m\u001b[0mmean\u001b[0m\u001b[0;34m(\u001b[0m\u001b[0;34m)\u001b[0m\u001b[0;34m.\u001b[0m\u001b[0mvalues\u001b[0m\u001b[0;34m-\u001b[0m\u001b[0mball_features\u001b[0m\u001b[0;34m[\u001b[0m\u001b[0;34m:\u001b[0m\u001b[0;36m2\u001b[0m\u001b[0;34m]\u001b[0m\u001b[0;34m)\u001b[0m \u001b[0;32mfor\u001b[0m \u001b[0;34m(\u001b[0m\u001b[0mleft\u001b[0m\u001b[0;34m,\u001b[0m \u001b[0mright\u001b[0m\u001b[0;34m)\u001b[0m \u001b[0;32min\u001b[0m \u001b[0mzip\u001b[0m\u001b[0;34m(\u001b[0m\u001b[0mleft_list\u001b[0m\u001b[0;34m,\u001b[0m \u001b[0mright_list\u001b[0m\u001b[0;34m)\u001b[0m\u001b[0;34m]\u001b[0m \u001b[0;32mfor\u001b[0m \u001b[0;34m(\u001b[0m\u001b[0mleft_list\u001b[0m\u001b[0;34m,\u001b[0m \u001b[0mright_list\u001b[0m\u001b[0;34m)\u001b[0m \u001b[0;32min\u001b[0m \u001b[0mzip\u001b[0m\u001b[0;34m(\u001b[0m\u001b[0;34m[\u001b[0m\u001b[0mleft_a_list\u001b[0m\u001b[0;34m,\u001b[0m \u001b[0mleft_b_list\u001b[0m\u001b[0;34m]\u001b[0m\u001b[0;34m,\u001b[0m \u001b[0;34m[\u001b[0m\u001b[0mright_a_list\u001b[0m\u001b[0;34m,\u001b[0m \u001b[0mright_b_list\u001b[0m\u001b[0;34m]\u001b[0m\u001b[0;34m)\u001b[0m\u001b[0;34m]\u001b[0m\u001b[0;34m)\u001b[0m\u001b[0;34m\u001b[0m\u001b[0m\n\u001b[0m\u001b[1;32m     22\u001b[0m     \u001b[0mtid\u001b[0m\u001b[0;34m,\u001b[0m \u001b[0mpid\u001b[0m \u001b[0;34m=\u001b[0m \u001b[0mnp\u001b[0m\u001b[0;34m.\u001b[0m\u001b[0munravel_index\u001b[0m\u001b[0;34m(\u001b[0m\u001b[0md_array\u001b[0m\u001b[0;34m.\u001b[0m\u001b[0margmin\u001b[0m\u001b[0;34m(\u001b[0m\u001b[0;34m)\u001b[0m\u001b[0;34m,\u001b[0m \u001b[0md_array\u001b[0m\u001b[0;34m.\u001b[0m\u001b[0mshape\u001b[0m\u001b[0;34m)\u001b[0m\u001b[0;34m\u001b[0m\u001b[0m\n\u001b[1;32m     23\u001b[0m     \u001b[0mmin_d\u001b[0m \u001b[0;34m=\u001b[0m \u001b[0md_array\u001b[0m\u001b[0;34m.\u001b[0m\u001b[0mmin\u001b[0m\u001b[0;34m(\u001b[0m\u001b[0;34m)\u001b[0m\u001b[0;34m\u001b[0m\u001b[0m\n",
      "\u001b[0;32m<ipython-input-41-d8837ed81990>\u001b[0m in \u001b[0;36m<listcomp>\u001b[0;34m(.0)\u001b[0m\n\u001b[1;32m     19\u001b[0m     \u001b[0mstart_time\u001b[0m \u001b[0;34m=\u001b[0m \u001b[0mtime\u001b[0m\u001b[0;34m.\u001b[0m\u001b[0mtime\u001b[0m\u001b[0;34m(\u001b[0m\u001b[0;34m)\u001b[0m\u001b[0;34m\u001b[0m\u001b[0m\n\u001b[1;32m     20\u001b[0m     \u001b[0mball_features\u001b[0m \u001b[0;34m=\u001b[0m \u001b[0mdf\u001b[0m\u001b[0;34m[\u001b[0m\u001b[0;34m(\u001b[0m\u001b[0mst\u001b[0m \u001b[0;34m<=\u001b[0m \u001b[0mdf\u001b[0m\u001b[0;34m.\u001b[0m\u001b[0mts\u001b[0m\u001b[0;34m)\u001b[0m\u001b[0;34m&\u001b[0m\u001b[0;34m(\u001b[0m\u001b[0mdf\u001b[0m\u001b[0;34m.\u001b[0m\u001b[0mts\u001b[0m \u001b[0;34m<\u001b[0m \u001b[0med\u001b[0m\u001b[0;34m)\u001b[0m\u001b[0;34m&\u001b[0m\u001b[0;34m(\u001b[0m\u001b[0;34m(\u001b[0m\u001b[0mdf\u001b[0m\u001b[0;34m.\u001b[0m\u001b[0msid\u001b[0m \u001b[0;34m==\u001b[0m \u001b[0mball_list\u001b[0m\u001b[0;34m[\u001b[0m\u001b[0;36m0\u001b[0m\u001b[0;34m]\u001b[0m\u001b[0;34m)\u001b[0m\u001b[0;34m|\u001b[0m\u001b[0;34m(\u001b[0m\u001b[0mdf\u001b[0m\u001b[0;34m.\u001b[0m\u001b[0msid\u001b[0m \u001b[0;34m==\u001b[0m \u001b[0mball_list\u001b[0m\u001b[0;34m[\u001b[0m\u001b[0;36m1\u001b[0m\u001b[0;34m]\u001b[0m\u001b[0;34m)\u001b[0m\u001b[0;34m|\u001b[0m\u001b[0;34m(\u001b[0m\u001b[0mdf\u001b[0m\u001b[0;34m.\u001b[0m\u001b[0msid\u001b[0m \u001b[0;34m==\u001b[0m \u001b[0mball_list\u001b[0m\u001b[0;34m[\u001b[0m\u001b[0;36m2\u001b[0m\u001b[0;34m]\u001b[0m\u001b[0;34m)\u001b[0m\u001b[0;34m|\u001b[0m\u001b[0;34m(\u001b[0m\u001b[0mdf\u001b[0m\u001b[0;34m.\u001b[0m\u001b[0msid\u001b[0m \u001b[0;34m==\u001b[0m \u001b[0mball_list\u001b[0m\u001b[0;34m[\u001b[0m\u001b[0;36m3\u001b[0m\u001b[0;34m]\u001b[0m\u001b[0;34m)\u001b[0m\u001b[0;34m)\u001b[0m\u001b[0;34m]\u001b[0m\u001b[0;34m[\u001b[0m\u001b[0;34m[\u001b[0m\u001b[0;34m'x'\u001b[0m\u001b[0;34m,\u001b[0m \u001b[0;34m'y'\u001b[0m\u001b[0;34m,\u001b[0m\u001b[0;34m'|v|'\u001b[0m\u001b[0;34m]\u001b[0m\u001b[0;34m]\u001b[0m\u001b[0;34m.\u001b[0m\u001b[0mmean\u001b[0m\u001b[0;34m(\u001b[0m\u001b[0;34m)\u001b[0m\u001b[0;34m.\u001b[0m\u001b[0mvalues\u001b[0m\u001b[0;34m\u001b[0m\u001b[0m\n\u001b[0;32m---> 21\u001b[0;31m     \u001b[0md_array\u001b[0m \u001b[0;34m=\u001b[0m \u001b[0mnp\u001b[0m\u001b[0;34m.\u001b[0m\u001b[0marray\u001b[0m\u001b[0;34m(\u001b[0m\u001b[0;34m[\u001b[0m\u001b[0;34m[\u001b[0m\u001b[0mnp\u001b[0m\u001b[0;34m.\u001b[0m\u001b[0mlinalg\u001b[0m\u001b[0;34m.\u001b[0m\u001b[0mnorm\u001b[0m\u001b[0;34m(\u001b[0m\u001b[0mdf\u001b[0m\u001b[0;34m[\u001b[0m\u001b[0;34m(\u001b[0m\u001b[0mst\u001b[0m \u001b[0;34m<=\u001b[0m \u001b[0mdf\u001b[0m\u001b[0;34m.\u001b[0m\u001b[0mts\u001b[0m\u001b[0;34m)\u001b[0m\u001b[0;34m&\u001b[0m\u001b[0;34m(\u001b[0m\u001b[0mdf\u001b[0m\u001b[0;34m.\u001b[0m\u001b[0mts\u001b[0m \u001b[0;34m<\u001b[0m \u001b[0med\u001b[0m\u001b[0;34m)\u001b[0m\u001b[0;34m&\u001b[0m\u001b[0;34m(\u001b[0m\u001b[0;34m(\u001b[0m\u001b[0mdf\u001b[0m\u001b[0;34m.\u001b[0m\u001b[0msid\u001b[0m \u001b[0;34m==\u001b[0m \u001b[0mleft\u001b[0m\u001b[0;34m)\u001b[0m\u001b[0;34m|\u001b[0m\u001b[0;34m(\u001b[0m\u001b[0mdf\u001b[0m\u001b[0;34m.\u001b[0m\u001b[0msid\u001b[0m \u001b[0;34m==\u001b[0m \u001b[0mright\u001b[0m\u001b[0;34m)\u001b[0m\u001b[0;34m)\u001b[0m\u001b[0;34m]\u001b[0m\u001b[0;34m[\u001b[0m\u001b[0;34m[\u001b[0m\u001b[0;34m'x'\u001b[0m\u001b[0;34m,\u001b[0m \u001b[0;34m'y'\u001b[0m\u001b[0;34m]\u001b[0m\u001b[0;34m]\u001b[0m\u001b[0;34m.\u001b[0m\u001b[0mmean\u001b[0m\u001b[0;34m(\u001b[0m\u001b[0;34m)\u001b[0m\u001b[0;34m.\u001b[0m\u001b[0mvalues\u001b[0m\u001b[0;34m-\u001b[0m\u001b[0mball_features\u001b[0m\u001b[0;34m[\u001b[0m\u001b[0;34m:\u001b[0m\u001b[0;36m2\u001b[0m\u001b[0;34m]\u001b[0m\u001b[0;34m)\u001b[0m \u001b[0;32mfor\u001b[0m \u001b[0;34m(\u001b[0m\u001b[0mleft\u001b[0m\u001b[0;34m,\u001b[0m \u001b[0mright\u001b[0m\u001b[0;34m)\u001b[0m \u001b[0;32min\u001b[0m \u001b[0mzip\u001b[0m\u001b[0;34m(\u001b[0m\u001b[0mleft_list\u001b[0m\u001b[0;34m,\u001b[0m \u001b[0mright_list\u001b[0m\u001b[0;34m)\u001b[0m\u001b[0;34m]\u001b[0m \u001b[0;32mfor\u001b[0m \u001b[0;34m(\u001b[0m\u001b[0mleft_list\u001b[0m\u001b[0;34m,\u001b[0m \u001b[0mright_list\u001b[0m\u001b[0;34m)\u001b[0m \u001b[0;32min\u001b[0m \u001b[0mzip\u001b[0m\u001b[0;34m(\u001b[0m\u001b[0;34m[\u001b[0m\u001b[0mleft_a_list\u001b[0m\u001b[0;34m,\u001b[0m \u001b[0mleft_b_list\u001b[0m\u001b[0;34m]\u001b[0m\u001b[0;34m,\u001b[0m \u001b[0;34m[\u001b[0m\u001b[0mright_a_list\u001b[0m\u001b[0;34m,\u001b[0m \u001b[0mright_b_list\u001b[0m\u001b[0;34m]\u001b[0m\u001b[0;34m)\u001b[0m\u001b[0;34m]\u001b[0m\u001b[0;34m)\u001b[0m\u001b[0;34m\u001b[0m\u001b[0m\n\u001b[0m\u001b[1;32m     22\u001b[0m     \u001b[0mtid\u001b[0m\u001b[0;34m,\u001b[0m \u001b[0mpid\u001b[0m \u001b[0;34m=\u001b[0m \u001b[0mnp\u001b[0m\u001b[0;34m.\u001b[0m\u001b[0munravel_index\u001b[0m\u001b[0;34m(\u001b[0m\u001b[0md_array\u001b[0m\u001b[0;34m.\u001b[0m\u001b[0margmin\u001b[0m\u001b[0;34m(\u001b[0m\u001b[0;34m)\u001b[0m\u001b[0;34m,\u001b[0m \u001b[0md_array\u001b[0m\u001b[0;34m.\u001b[0m\u001b[0mshape\u001b[0m\u001b[0;34m)\u001b[0m\u001b[0;34m\u001b[0m\u001b[0m\n\u001b[1;32m     23\u001b[0m     \u001b[0mmin_d\u001b[0m \u001b[0;34m=\u001b[0m \u001b[0md_array\u001b[0m\u001b[0;34m.\u001b[0m\u001b[0mmin\u001b[0m\u001b[0;34m(\u001b[0m\u001b[0;34m)\u001b[0m\u001b[0;34m\u001b[0m\u001b[0m\n",
      "\u001b[0;32m<ipython-input-41-d8837ed81990>\u001b[0m in \u001b[0;36m<listcomp>\u001b[0;34m(.0)\u001b[0m\n\u001b[1;32m     19\u001b[0m     \u001b[0mstart_time\u001b[0m \u001b[0;34m=\u001b[0m \u001b[0mtime\u001b[0m\u001b[0;34m.\u001b[0m\u001b[0mtime\u001b[0m\u001b[0;34m(\u001b[0m\u001b[0;34m)\u001b[0m\u001b[0;34m\u001b[0m\u001b[0m\n\u001b[1;32m     20\u001b[0m     \u001b[0mball_features\u001b[0m \u001b[0;34m=\u001b[0m \u001b[0mdf\u001b[0m\u001b[0;34m[\u001b[0m\u001b[0;34m(\u001b[0m\u001b[0mst\u001b[0m \u001b[0;34m<=\u001b[0m \u001b[0mdf\u001b[0m\u001b[0;34m.\u001b[0m\u001b[0mts\u001b[0m\u001b[0;34m)\u001b[0m\u001b[0;34m&\u001b[0m\u001b[0;34m(\u001b[0m\u001b[0mdf\u001b[0m\u001b[0;34m.\u001b[0m\u001b[0mts\u001b[0m \u001b[0;34m<\u001b[0m \u001b[0med\u001b[0m\u001b[0;34m)\u001b[0m\u001b[0;34m&\u001b[0m\u001b[0;34m(\u001b[0m\u001b[0;34m(\u001b[0m\u001b[0mdf\u001b[0m\u001b[0;34m.\u001b[0m\u001b[0msid\u001b[0m \u001b[0;34m==\u001b[0m \u001b[0mball_list\u001b[0m\u001b[0;34m[\u001b[0m\u001b[0;36m0\u001b[0m\u001b[0;34m]\u001b[0m\u001b[0;34m)\u001b[0m\u001b[0;34m|\u001b[0m\u001b[0;34m(\u001b[0m\u001b[0mdf\u001b[0m\u001b[0;34m.\u001b[0m\u001b[0msid\u001b[0m \u001b[0;34m==\u001b[0m \u001b[0mball_list\u001b[0m\u001b[0;34m[\u001b[0m\u001b[0;36m1\u001b[0m\u001b[0;34m]\u001b[0m\u001b[0;34m)\u001b[0m\u001b[0;34m|\u001b[0m\u001b[0;34m(\u001b[0m\u001b[0mdf\u001b[0m\u001b[0;34m.\u001b[0m\u001b[0msid\u001b[0m \u001b[0;34m==\u001b[0m \u001b[0mball_list\u001b[0m\u001b[0;34m[\u001b[0m\u001b[0;36m2\u001b[0m\u001b[0;34m]\u001b[0m\u001b[0;34m)\u001b[0m\u001b[0;34m|\u001b[0m\u001b[0;34m(\u001b[0m\u001b[0mdf\u001b[0m\u001b[0;34m.\u001b[0m\u001b[0msid\u001b[0m \u001b[0;34m==\u001b[0m \u001b[0mball_list\u001b[0m\u001b[0;34m[\u001b[0m\u001b[0;36m3\u001b[0m\u001b[0;34m]\u001b[0m\u001b[0;34m)\u001b[0m\u001b[0;34m)\u001b[0m\u001b[0;34m]\u001b[0m\u001b[0;34m[\u001b[0m\u001b[0;34m[\u001b[0m\u001b[0;34m'x'\u001b[0m\u001b[0;34m,\u001b[0m \u001b[0;34m'y'\u001b[0m\u001b[0;34m,\u001b[0m\u001b[0;34m'|v|'\u001b[0m\u001b[0;34m]\u001b[0m\u001b[0;34m]\u001b[0m\u001b[0;34m.\u001b[0m\u001b[0mmean\u001b[0m\u001b[0;34m(\u001b[0m\u001b[0;34m)\u001b[0m\u001b[0;34m.\u001b[0m\u001b[0mvalues\u001b[0m\u001b[0;34m\u001b[0m\u001b[0m\n\u001b[0;32m---> 21\u001b[0;31m     \u001b[0md_array\u001b[0m \u001b[0;34m=\u001b[0m \u001b[0mnp\u001b[0m\u001b[0;34m.\u001b[0m\u001b[0marray\u001b[0m\u001b[0;34m(\u001b[0m\u001b[0;34m[\u001b[0m\u001b[0;34m[\u001b[0m\u001b[0mnp\u001b[0m\u001b[0;34m.\u001b[0m\u001b[0mlinalg\u001b[0m\u001b[0;34m.\u001b[0m\u001b[0mnorm\u001b[0m\u001b[0;34m(\u001b[0m\u001b[0mdf\u001b[0m\u001b[0;34m[\u001b[0m\u001b[0;34m(\u001b[0m\u001b[0mst\u001b[0m \u001b[0;34m<=\u001b[0m \u001b[0mdf\u001b[0m\u001b[0;34m.\u001b[0m\u001b[0mts\u001b[0m\u001b[0;34m)\u001b[0m\u001b[0;34m&\u001b[0m\u001b[0;34m(\u001b[0m\u001b[0mdf\u001b[0m\u001b[0;34m.\u001b[0m\u001b[0mts\u001b[0m \u001b[0;34m<\u001b[0m \u001b[0med\u001b[0m\u001b[0;34m)\u001b[0m\u001b[0;34m&\u001b[0m\u001b[0;34m(\u001b[0m\u001b[0;34m(\u001b[0m\u001b[0mdf\u001b[0m\u001b[0;34m.\u001b[0m\u001b[0msid\u001b[0m \u001b[0;34m==\u001b[0m \u001b[0mleft\u001b[0m\u001b[0;34m)\u001b[0m\u001b[0;34m|\u001b[0m\u001b[0;34m(\u001b[0m\u001b[0mdf\u001b[0m\u001b[0;34m.\u001b[0m\u001b[0msid\u001b[0m \u001b[0;34m==\u001b[0m \u001b[0mright\u001b[0m\u001b[0;34m)\u001b[0m\u001b[0;34m)\u001b[0m\u001b[0;34m]\u001b[0m\u001b[0;34m[\u001b[0m\u001b[0;34m[\u001b[0m\u001b[0;34m'x'\u001b[0m\u001b[0;34m,\u001b[0m \u001b[0;34m'y'\u001b[0m\u001b[0;34m]\u001b[0m\u001b[0;34m]\u001b[0m\u001b[0;34m.\u001b[0m\u001b[0mmean\u001b[0m\u001b[0;34m(\u001b[0m\u001b[0;34m)\u001b[0m\u001b[0;34m.\u001b[0m\u001b[0mvalues\u001b[0m\u001b[0;34m-\u001b[0m\u001b[0mball_features\u001b[0m\u001b[0;34m[\u001b[0m\u001b[0;34m:\u001b[0m\u001b[0;36m2\u001b[0m\u001b[0;34m]\u001b[0m\u001b[0;34m)\u001b[0m \u001b[0;32mfor\u001b[0m \u001b[0;34m(\u001b[0m\u001b[0mleft\u001b[0m\u001b[0;34m,\u001b[0m \u001b[0mright\u001b[0m\u001b[0;34m)\u001b[0m \u001b[0;32min\u001b[0m \u001b[0mzip\u001b[0m\u001b[0;34m(\u001b[0m\u001b[0mleft_list\u001b[0m\u001b[0;34m,\u001b[0m \u001b[0mright_list\u001b[0m\u001b[0;34m)\u001b[0m\u001b[0;34m]\u001b[0m \u001b[0;32mfor\u001b[0m \u001b[0;34m(\u001b[0m\u001b[0mleft_list\u001b[0m\u001b[0;34m,\u001b[0m \u001b[0mright_list\u001b[0m\u001b[0;34m)\u001b[0m \u001b[0;32min\u001b[0m \u001b[0mzip\u001b[0m\u001b[0;34m(\u001b[0m\u001b[0;34m[\u001b[0m\u001b[0mleft_a_list\u001b[0m\u001b[0;34m,\u001b[0m \u001b[0mleft_b_list\u001b[0m\u001b[0;34m]\u001b[0m\u001b[0;34m,\u001b[0m \u001b[0;34m[\u001b[0m\u001b[0mright_a_list\u001b[0m\u001b[0;34m,\u001b[0m \u001b[0mright_b_list\u001b[0m\u001b[0;34m]\u001b[0m\u001b[0;34m)\u001b[0m\u001b[0;34m]\u001b[0m\u001b[0;34m)\u001b[0m\u001b[0;34m\u001b[0m\u001b[0m\n\u001b[0m\u001b[1;32m     22\u001b[0m     \u001b[0mtid\u001b[0m\u001b[0;34m,\u001b[0m \u001b[0mpid\u001b[0m \u001b[0;34m=\u001b[0m \u001b[0mnp\u001b[0m\u001b[0;34m.\u001b[0m\u001b[0munravel_index\u001b[0m\u001b[0;34m(\u001b[0m\u001b[0md_array\u001b[0m\u001b[0;34m.\u001b[0m\u001b[0margmin\u001b[0m\u001b[0;34m(\u001b[0m\u001b[0;34m)\u001b[0m\u001b[0;34m,\u001b[0m \u001b[0md_array\u001b[0m\u001b[0;34m.\u001b[0m\u001b[0mshape\u001b[0m\u001b[0;34m)\u001b[0m\u001b[0;34m\u001b[0m\u001b[0m\n\u001b[1;32m     23\u001b[0m     \u001b[0mmin_d\u001b[0m \u001b[0;34m=\u001b[0m \u001b[0md_array\u001b[0m\u001b[0;34m.\u001b[0m\u001b[0mmin\u001b[0m\u001b[0;34m(\u001b[0m\u001b[0;34m)\u001b[0m\u001b[0;34m\u001b[0m\u001b[0m\n",
      "\u001b[0;31mKeyboardInterrupt\u001b[0m: "
     ]
    }
   ],
   "source": [
    "from ipywidgets import FloatProgress\n",
    "from IPython.display import display\n",
    "\n",
    "dt = 0.1\n",
    "threshold_pass = 0.5e+7\n",
    "threshold_distance = 2e+3\n",
    "\n",
    "T = (ed_1st-st_1st)/2\n",
    "\n",
    "fp = FloatProgress(min=0, max=int(T/dt))\n",
    "print(T/dt)\n",
    "display(fp)\n",
    "\n",
    "st, ed = 0, dt\n",
    "data_a_of_list, data_a_df_list, data_b_of_list, data_b_df_list = [], [], [], []\n",
    "t = 0\n",
    "\n",
    "while st < T:\n",
    "    start_time = time.time()\n",
    "    ball_features = df[(st <= df.ts)&(df.ts < ed)&((df.sid == ball_list[0])|(df.sid == ball_list[1])|(df.sid == ball_list[2])|(df.sid == ball_list[3]))][['x', 'y','|v|']].mean().values\n",
    "    d_array = np.array([[np.linalg.norm(df[(st <= df.ts)&(df.ts < ed)&((df.sid == left)|(df.sid == right))][['x', 'y']].mean().values-ball_features[:2]) for (left, right) in zip(left_list, right_list)] for (left_list, right_list) in zip([left_a_list, left_b_list], [right_a_list, right_b_list])])\n",
    "    tid, pid = np.unravel_index(d_array.argmin(), d_array.shape)\n",
    "    min_d = d_array.min()\n",
    "    \n",
    "    if ball_features[-1] > threshold_pass and st != st:\n",
    "        pid = pid if min_d < threshold_distance and tid == pre_tid else pre_pid\n",
    "        tid = pre_tid\n",
    "    \n",
    "    pre_tid, pre_pid = tid, pid\n",
    "    data = np.array([[df[(st <= df.ts)&(df.ts < ed)&((df.sid == left)|(df.sid == right))][['x', 'y']].mean().values for (left, right) in zip(left_list, right_list)] for (left_list, right_list) in zip([left_a_list, left_b_list], [right_a_list, right_b_list])])\n",
    "    if pid == 0:\n",
    "        data_a_of_list.append(data[0].tolist())\n",
    "        data_b_df_list.append(data[1].tolist())\n",
    "    else:\n",
    "        data_a_df_list.append(data[0].tolist())\n",
    "        data_b_of_list.append(data[1].tolist())\n",
    "    \n",
    "    st += dt; ed += dt\n",
    "    print(time.time()-start_time)\n",
    "    fp.value = t\n",
    "    t += 1"
   ]
  },
  {
   "cell_type": "code",
   "execution_count": 26,
   "metadata": {},
   "outputs": [
    {
     "name": "stdout",
     "output_type": "stream",
     "text": [
      "0 0 (0,)\n",
      "0 1 (11, 8, 2)\n",
      "1 0 (11, 8, 2)\n",
      "1 1 (0,)\n"
     ]
    },
    {
     "data": {
      "text/plain": [
       "'\\ndata_array = np.array(data_list).transpose(1,0,2)\\nindex_list = np.isnan(data_array.reshape(-1, 8*2)).any(axis=1)\\ndata_array = data_array[~index_list].reshape(-1, 8, 2)\\n'"
      ]
     },
     "execution_count": 26,
     "metadata": {},
     "output_type": "execute_result"
    }
   ],
   "source": [
    "team_list = ['a', 'b']\n",
    "name_list = ['of', 'df']\n",
    "for i, data_list_list in enumerate(zip([data_a_of_list, data_b_of_list], [data_a_df_list, data_b_df_list])):\n",
    "    for j, data_list in enumerate(data_list_list):\n",
    "        data_array = np.array(data_list)\n",
    "        index_list = np.isnan(data_array.reshape(-1, 8*2)).any(axis=1)\n",
    "        data_array = data_array[~index_list].reshape(-1, 8, 2)\n",
    "        data_array = np.array(([zscore(data) for data in data_array]))\n",
    "        \n",
    "        np.savetxt(os.path.join('_csv', '{}_1st_1_{}.csv').format(team_list[i],name_list[j]), data_array.reshape(-1, 8*2), delimiter=',')"
   ]
  }
 ],
 "metadata": {
  "kernelspec": {
   "display_name": "optimal",
   "language": "python",
   "name": "optimal"
  },
  "language_info": {
   "codemirror_mode": {
    "name": "ipython",
    "version": 3
   },
   "file_extension": ".py",
   "mimetype": "text/x-python",
   "name": "python",
   "nbconvert_exporter": "python",
   "pygments_lexer": "ipython3",
   "version": "3.6.5"
  }
 },
 "nbformat": 4,
 "nbformat_minor": 2
}
